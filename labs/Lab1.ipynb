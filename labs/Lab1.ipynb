{
 "cells": [
  {
   "cell_type": "markdown",
   "id": "fifteen-sailing",
   "metadata": {},
   "source": [
    "Лабораторная работа №1\n",
    "Выполнил студент группы БВТ2005 Камышев Владимир Владимирович"
   ]
  },
  {
   "cell_type": "markdown",
   "id": "particular-syndicate",
   "metadata": {},
   "source": [
    "### Оглавление\n",
    "1. [Задание 1](#Задание-№1)\n",
    "2. [Задание 2](#Задание-№2)\n",
    "3. [Задание 3](#Задание-№3)\n",
    "4. [Вывод](#Вывод)"
   ]
  },
  {
   "cell_type": "markdown",
   "id": "arctic-stocks",
   "metadata": {},
   "source": [
    "### Задание №1\n",
    "<i> Вызвать функцию print() и передать туда строку Hello, World! </i>"
   ]
  },
  {
   "cell_type": "code",
   "execution_count": 1,
   "id": "caring-truck",
   "metadata": {
    "scrolled": true
   },
   "outputs": [
    {
     "name": "stdout",
     "output_type": "stream",
     "text": [
      "Hello, World!\n"
     ]
    }
   ],
   "source": [
    "print(\"Hello, World!\")"
   ]
  },
  {
   "cell_type": "markdown",
   "id": "maritime-conversation",
   "metadata": {},
   "source": [
    "### Задание №2\n",
    "Написать генератор случайных матриц(многомерных), который принимает\n",
    "опциональные параметры <b>m</b>, <b>n</b>, <b>min_limit</b>, <b>max_limit</b>, где <b>m</b> и <b>n</b> указывают размер\n",
    "матрицы, а <b>min_lim</b> и <b>max_lim</b> - минимальное и максимальное значение для\n",
    "генерируемого числа."
   ]
  },
  {
   "cell_type": "code",
   "execution_count": null,
   "id": "built-contact",
   "metadata": {},
   "outputs": [],
   "source": [
    "import random\n",
    "import time\n"
   ]
  },
  {
   "cell_type": "code",
   "execution_count": 58,
   "id": "alert-charm",
   "metadata": {},
   "outputs": [
    {
     "name": "stdout",
     "output_type": "stream",
     "text": [
      "0\n",
      "200\n",
      "200\n",
      "200\n"
     ]
    },
    {
     "ename": "TypeError",
     "evalue": "randint() takes 3 positional arguments but 4 were given",
     "output_type": "error",
     "traceback": [
      "\u001b[1;31m---------------------------------------------------------------------------\u001b[0m",
      "\u001b[1;31mTypeError\u001b[0m                                 Traceback (most recent call last)",
      "\u001b[1;32mC:\\Users\\7F2A~1\\AppData\\Local\\Temp/ipykernel_252/3178785170.py\u001b[0m in \u001b[0;36m<module>\u001b[1;34m\u001b[0m\n\u001b[0;32m      8\u001b[0m \u001b[1;33m\u001b[0m\u001b[0m\n\u001b[0;32m      9\u001b[0m \u001b[1;33m\u001b[0m\u001b[0m\n\u001b[1;32m---> 10\u001b[1;33m \u001b[0mmatrix\u001b[0m \u001b[1;33m=\u001b[0m \u001b[0mrandom\u001b[0m\u001b[1;33m.\u001b[0m\u001b[0mrandint\u001b[0m\u001b[1;33m(\u001b[0m\u001b[0muser_min_limit\u001b[0m\u001b[1;33m,\u001b[0m\u001b[0muser_max_limit\u001b[0m\u001b[1;33m,\u001b[0m\u001b[1;33m(\u001b[0m\u001b[0muser_m\u001b[0m\u001b[1;33m,\u001b[0m\u001b[0muser_n\u001b[0m\u001b[1;33m)\u001b[0m\u001b[1;33m)\u001b[0m\u001b[1;33m\u001b[0m\u001b[1;33m\u001b[0m\u001b[0m\n\u001b[0m\u001b[0;32m     11\u001b[0m \u001b[0mprint\u001b[0m\u001b[1;33m(\u001b[0m\u001b[0mmatrix\u001b[0m\u001b[1;33m)\u001b[0m\u001b[1;33m\u001b[0m\u001b[1;33m\u001b[0m\u001b[0m\n",
      "\u001b[1;31mTypeError\u001b[0m: randint() takes 3 positional arguments but 4 were given"
     ]
    }
   ],
   "source": [
    "import numpy as np\n",
    "import random\n",
    "\n",
    "user_min_limit = int(input())\n",
    "user_max_limit = int(input())\n",
    "user_m = int(input())\n",
    "user_n = int(input())\n",
    "\n",
    "\n",
    "matrix = np.random.randint(user_min_limit,user_max_limit,(user_m,user_n))\n",
    "print(matrix)"
   ]
  },
  {
   "cell_type": "markdown",
   "id": "catholic-roots",
   "metadata": {},
   "source": [
    "### Задание №3\n",
    "Реализовать методы сортировки строк числовой матрицы в соответствии с\n",
    "заданием. Оценить время работы каждого алгоритма сортировки и сравнить его со\n",
    "временем стандартной функции сортировки. Испытания проводить на сгенерированных\n",
    "матрицах."
   ]
  },
  {
   "cell_type": "code",
   "execution_count": 4,
   "id": "opposed-creature",
   "metadata": {},
   "outputs": [],
   "source": [
    "import copy"
   ]
  },
  {
   "cell_type": "code",
   "execution_count": 14,
   "id": "cleared-anniversary",
   "metadata": {},
   "outputs": [
    {
     "name": "stdout",
     "output_type": "stream",
     "text": [
      "[[  1   1   1 ... 193 193 196]\n",
      " [  0   4   7 ... 198 198 199]\n",
      " [  0   1   1 ... 198 199 199]\n",
      " ...\n",
      " [  1   1   4 ... 198 199 199]\n",
      " [  0   0   1 ... 197 198 199]\n",
      " [  0   1   3 ... 195 197 198]]\n",
      "--- 443 ms ---\n"
     ]
    }
   ],
   "source": [
    "# Сортировка выбором\n",
    "\n",
    "start_time = time.time()\n",
    "\n",
    "import copy\n",
    "import numpy as np\n",
    "import time\n",
    "\n",
    "\n",
    "def sort1(line):\n",
    "    for i in range(len(line)):\n",
    "        temp = line[i]\n",
    "        index = i\n",
    "        for j in range(i, len(line)):\n",
    "            if line[j] < temp:\n",
    "                temp = line[j]\n",
    "                index = j\n",
    "        line[index], line[i] = line[i], temp\n",
    "\n",
    "array1 = copy.deepcopy(matrix)                \n",
    "t1 = time.time()                \n",
    "for line in array1:\n",
    "    line = sort1(line)\n",
    "t2 = time.time()\n",
    "\n",
    "sort1_time = round((t2 - t1) * 1000)\n",
    "\n",
    "print(array1)\n",
    "\n",
    "\n",
    "print(\"--- {0} ms ---\".format(round((time.time() - start_time)*1000)))"
   ]
  },
  {
   "cell_type": "code",
   "execution_count": 15,
   "id": "roman-silly",
   "metadata": {
    "scrolled": true
   },
   "outputs": [
    {
     "name": "stdout",
     "output_type": "stream",
     "text": [
      "[[  1   1   1 ... 193 193 196]\n",
      " [  0   4   7 ... 198 198 199]\n",
      " [  0   1   1 ... 198 199 199]\n",
      " ...\n",
      " [  1   1   4 ... 198 199 199]\n",
      " [  0   0   1 ... 197 198 199]\n",
      " [  0   1   3 ... 195 197 198]]\n",
      "--- 1233 ms ---\n"
     ]
    }
   ],
   "source": [
    "# Сортировка вставкой.\n",
    "\n",
    "import copy\n",
    "import numpy as np\n",
    "import time\n",
    "\n",
    "start_time = time.time()\n",
    "\n",
    "def sort2(line):\n",
    "    for i in range(1, len(line)):\n",
    "        for j in range(i, 0, -1):\n",
    "            if line[j] < line[j - 1]:\n",
    "                line[j], line[j - 1] = line [j - 1], line[j]\n",
    "            else:\n",
    "                break\n",
    "                \n",
    "array2 = copy.deepcopy(matrix)                \n",
    "t1 = time.time()                \n",
    "for line in array2:\n",
    "    line = sort2(line)\n",
    "t2 = time.time()\n",
    "\n",
    "sort2_time = round((t2 - t1) * 1000)\n",
    "\n",
    "print(array2)\n",
    "\n",
    "\n",
    "print(\"--- {0} ms ---\".format(round((time.time() - start_time)*1000)))"
   ]
  },
  {
   "cell_type": "code",
   "execution_count": 16,
   "id": "vital-implementation",
   "metadata": {},
   "outputs": [
    {
     "name": "stdout",
     "output_type": "stream",
     "text": [
      "[[  1   1   1 ... 193 193 196]\n",
      " [  0   4   7 ... 198 198 199]\n",
      " [  0   1   1 ... 198 199 199]\n",
      " ...\n",
      " [  1   1   4 ... 198 199 199]\n",
      " [  0   0   1 ... 197 198 199]\n",
      " [  0   1   3 ... 195 197 198]]\n",
      "--- 1563 ms ---\n"
     ]
    }
   ],
   "source": [
    "# Сортировка обменом. || Сортировка пузырьком.\n",
    "\n",
    "start_time = time.time()\n",
    "\n",
    "import copy\n",
    "import numpy as np\n",
    "import time\n",
    "\n",
    "def sort3(line):\n",
    "    counter = 1\n",
    "    while counter < len(line):\n",
    "        for i in range(len(line) - counter):\n",
    "            if line[i] > line[i + 1]:\n",
    "                line[i], line[i + 1] = line[i + 1], line[i]\n",
    "        counter += 1\n",
    "\n",
    "array3 = copy.deepcopy(matrix)                \n",
    "t1 = time.time()                \n",
    "for line in array3:\n",
    "    line = sort3(line)\n",
    "t2 = time.time()\n",
    "\n",
    "sort3_time = round((t2 - t1) * 1000)\n",
    "\n",
    "print(array3)\n",
    "\n",
    "\n",
    "print(\"--- {0} ms ---\".format(round((time.time() - start_time)*1000)))"
   ]
  },
  {
   "cell_type": "code",
   "execution_count": 17,
   "id": "veterinary-glory",
   "metadata": {},
   "outputs": [
    {
     "name": "stdout",
     "output_type": "stream",
     "text": [
      "[[  1   1   1 ... 193 193 196]\n",
      " [  0   4   7 ... 198 198 199]\n",
      " [  0   1   1 ... 198 199 199]\n",
      " ...\n",
      " [  1   1   4 ... 198 199 199]\n",
      " [  0   0   1 ... 197 198 199]\n",
      " [  0   1   3 ... 195 197 198]]\n",
      "--- 124 ms ---\n"
     ]
    }
   ],
   "source": [
    "# Сортировка Шелла.\n",
    "\n",
    "start_time = time.time()\n",
    "\n",
    "import copy\n",
    "import numpy as np\n",
    "import time\n",
    "import math\n",
    "\n",
    "def sort4(line):\n",
    "    n = len(line)\n",
    "    k = int(math.log2(n))\n",
    "    interval = 2**k -1\n",
    "    while interval > 0:\n",
    "        for i in range(interval, n):\n",
    "            temp = line[i]\n",
    "            j = i\n",
    "            while j >= interval and line[j - interval] > temp:\n",
    "                line[j] = line[j - interval]\n",
    "                j -= interval\n",
    "            line[j] = temp\n",
    "        k -= 1\n",
    "        interval = 2**k -1\n",
    "    return line\n",
    "\n",
    "array4 = copy.deepcopy(matrix)                \n",
    "t1 = time.time()                \n",
    "for line in array4:\n",
    "    line = sort4(line)\n",
    "t2 = time.time()\n",
    "\n",
    "sort4_time = round((t2 - t1) * 1000)\n",
    "\n",
    "print(array4)\n",
    "\n",
    "print(\"--- {0} ms ---\".format(round((time.time() - start_time)*1000)))"
   ]
  },
  {
   "cell_type": "code",
   "execution_count": 88,
   "id": "correct-chaos",
   "metadata": {},
   "outputs": [
    {
     "name": "stdout",
     "output_type": "stream",
     "text": [
      "[[  1   1   1 ... 193 193 196]\n",
      " [  0   4   7 ... 198 198 199]\n",
      " [  0   1   1 ... 198 199 199]\n",
      " ...\n",
      " [  1   1   4 ... 198 199 199]\n",
      " [  0   0   1 ... 197 198 199]\n",
      " [  0   1   3 ... 195 197 198]]\n",
      "--- 65 ms ---\n"
     ]
    }
   ],
   "source": [
    "# Быстрая сортировка.\n",
    "\n",
    "start_time = time.time()\n",
    "\n",
    "import copy\n",
    "import numpy as np\n",
    "import time\n",
    "\n",
    "def sort5(line):\n",
    "    if len(line) <= 1:\n",
    "        return line\n",
    "    else:\n",
    "        temp = random.choice(line)\n",
    "        first_half = []\n",
    "        middle = []\n",
    "        second_half = []\n",
    "        for i in line:\n",
    "            if i < temp:\n",
    "                first_half.append(i) \n",
    "            elif i > temp: \n",
    "                second_half.append(i) \n",
    "            else: \n",
    "                middle.append(i)\n",
    "        line = sort5(first_half) + middle + sort5(second_half)\n",
    "        return line\n",
    "        \n",
    "\n",
    "array5 = copy.deepcopy(matrix)                \n",
    "t1 = time.time()                \n",
    "for line in array5:\n",
    "    line = sort5(line)\n",
    "t2 = time.time()\n",
    "\n",
    "sort5_time = round((t2 - t1) * 1000)\n",
    "\n",
    "print(array5)\n",
    "\n",
    "print(\"--- {0} ms ---\".format(round((time.time() - start_time)*1000)))"
   ]
  },
  {
   "cell_type": "code",
   "execution_count": 89,
   "id": "french-czech",
   "metadata": {},
   "outputs": [
    {
     "name": "stdout",
     "output_type": "stream",
     "text": [
      "[[  1   1   1 ... 193 193 196]\n",
      " [  0   4   7 ... 198 198 199]\n",
      " [  0   1   1 ... 198 199 199]\n",
      " ...\n",
      " [  1   1   4 ... 198 199 199]\n",
      " [  0   0   1 ... 197 198 199]\n",
      " [  0   1   3 ... 195 197 198]]\n",
      "--- 18 ms ---\n"
     ]
    }
   ],
   "source": [
    "# Турнирная сортировка.\n",
    "\n",
    "import copy\n",
    "import numpy as np\n",
    "import time\n",
    "\n",
    "start_time = time.time()\n",
    "\n",
    "import heapq\n",
    "\n",
    "from heapq import heappop, heappush  \n",
    "   \n",
    "def sort6(line):  \n",
    "    heap = []  \n",
    "    for ele in line:  \n",
    "        heappush(heap, ele)  \n",
    "    sort = []  \n",
    "    while heap:  \n",
    "        sort.append(heappop(heap))  \n",
    "   \n",
    "    return sort \n",
    "\n",
    "array6 = copy.deepcopy(matrix)                \n",
    "t1 = time.time()                \n",
    "for line in array6:\n",
    "    line = sort6(line)\n",
    "t2 = time.time()\n",
    "\n",
    "sort6_time = round((t2 - t1) * 1000)\n",
    "\n",
    "print(array6)\n",
    "\n",
    "print(\"--- {0} ms ---\".format(round((time.time() - start_time)*1000)))"
   ]
  },
  {
   "cell_type": "markdown",
   "id": "rental-jerusalem",
   "metadata": {},
   "source": [
    "### Вывод\n"
   ]
  },
  {
   "cell_type": "code",
   "execution_count": 90,
   "id": "19e7f6a9",
   "metadata": {},
   "outputs": [
    {
     "name": "stdout",
     "output_type": "stream",
     "text": [
      "Сортировка выбором - 443 ms, Сортировка вставкой - 1233 ms, Сортировка пузырьком - 1562 ms,  Сортировка Шелла - 122 ms, Быстрая сортировка - 63 ms, Турнирная сортировка - 17 ms\n"
     ]
    }
   ],
   "source": [
    "import copy\n",
    "selection_sort = copy.deepcopy(sort1_time)\n",
    "insertion_sort = copy.deepcopy(sort2_time)\n",
    "bubble_sort = copy.deepcopy(sort3_time)\n",
    "shell_sort = copy.deepcopy(sort4_time)\n",
    "quick_sort = copy.deepcopy(sort5_time)\n",
    "tournament_sort = copy.deepcopy(sort6_time)\n",
    "array = [\"Сортировка выбором - \" + str(selection_sort) + \" ms,\", \"Сортировка вставкой - \" + str(insertion_sort) + \" ms,\", \n",
    "         \"Сортировка пузырьком - \" + str(bubble_sort) + \" ms, \", \"Сортировка Шелла - \" + str(shell_sort) + \" ms,\", \n",
    "         \"Быстрая сортировка - \" + str(quick_sort) + \" ms,\", \"Турнирная сортировка - \" + str(tournament_sort) + \" ms\"]\n",
    "print(*array)"
   ]
  },
  {
   "cell_type": "code",
   "execution_count": null,
   "id": "ec4eda84",
   "metadata": {},
   "outputs": [],
   "source": []
  }
 ],
 "metadata": {
  "kernelspec": {
   "display_name": "Python 3 (ipykernel)",
   "language": "python",
   "name": "python3"
  },
  "language_info": {
   "codemirror_mode": {
    "name": "ipython",
    "version": 3
   },
   "file_extension": ".py",
   "mimetype": "text/x-python",
   "name": "python",
   "nbconvert_exporter": "python",
   "pygments_lexer": "ipython3",
   "version": "3.9.7"
  }
 },
 "nbformat": 4,
 "nbformat_minor": 5
}
