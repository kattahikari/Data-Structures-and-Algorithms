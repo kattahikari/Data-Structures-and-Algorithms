{
 "cells": [
  {
   "cell_type": "markdown",
   "id": "fifteen-sailing",
   "metadata": {},
   "source": [
    "Лабораторная работа №1\n",
    "Выполнил студент группы БВТ2005 Камышев Владимир Владимирович"
   ]
  },
  {
   "cell_type": "markdown",
   "id": "particular-syndicate",
   "metadata": {},
   "source": [
    "### Оглавление\n",
    "1. [Задание 1](#Задание-№1)\n",
    "2. [Задание 2](#Задание-№2)\n",
    "3. [Задание 3](#Задание-№3)\n",
    "4. [Вывод](#Вывод)"
   ]
  },
  {
   "cell_type": "markdown",
   "id": "arctic-stocks",
   "metadata": {},
   "source": [
    "### Задание №1\n",
    "<i> Вызвать функцию print() и передать туда строку Hello, World! </i>"
   ]
  },
  {
   "cell_type": "code",
   "execution_count": 1,
   "id": "caring-truck",
   "metadata": {
    "scrolled": true
   },
   "outputs": [
    {
     "name": "stdout",
     "output_type": "stream",
     "text": [
      "Hello, World!\n"
     ]
    }
   ],
   "source": [
    "print(\"Hello, World!\")"
   ]
  },
  {
   "cell_type": "markdown",
   "id": "maritime-conversation",
   "metadata": {},
   "source": [
    "### Задание №2\n",
    "Написать генератор случайных матриц(многомерных), который принимает\n",
    "опциональные параметры <b>m</b>, <b>n</b>, <b>min_limit</b>, <b>max_limit</b>, где <b>m</b> и <b>n</b> указывают размер\n",
    "матрицы, а <b>min_lim</b> и <b>max_lim</b> - минимальное и максимальное значение для\n",
    "генерируемого числа."
   ]
  },
  {
   "cell_type": "code",
   "execution_count": null,
   "id": "built-contact",
   "metadata": {},
   "outputs": [],
   "source": [
    "import random\n",
    "import time\n"
   ]
  },
  {
   "cell_type": "code",
   "execution_count": 6,
   "id": "alert-charm",
   "metadata": {},
   "outputs": [
    {
     "name": "stdout",
     "output_type": "stream",
     "text": [
      "0\n",
      "200\n",
      "200\n",
      "200\n",
      "[[ 93 178   7 ... 198 171 120]\n",
      " [ 91 151 186 ... 186 126  61]\n",
      " [ 82  24  78 ... 187  96   5]\n",
      " ...\n",
      " [ 88  20  90 ... 126 100 123]\n",
      " [186 129   0 ...  71  68  12]\n",
      " [177 148  24 ...  46  44 119]]\n"
     ]
    }
   ],
   "source": [
    "import numpy as np\n",
    "import random\n",
    "\n",
    "user_min_limit = int(input())\n",
    "user_max_limit = int(input())\n",
    "user_m = int(input())\n",
    "user_n = int(input())\n",
    "\n",
    "\n",
    "matrix = np.random.randint(user_min_limit,user_max_limit,(user_m,user_n))\n",
    "print(matrix)"
   ]
  },
  {
   "cell_type": "markdown",
   "id": "catholic-roots",
   "metadata": {},
   "source": [
    "### Задание №3\n",
    "Реализовать методы сортировки строк числовой матрицы в соответствии с\n",
    "заданием. Оценить время работы каждого алгоритма сортировки и сравнить его со\n",
    "временем стандартной функции сортировки. Испытания проводить на сгенерированных\n",
    "матрицах."
   ]
  },
  {
   "cell_type": "code",
   "execution_count": 4,
   "id": "opposed-creature",
   "metadata": {},
   "outputs": [],
   "source": [
    "import copy"
   ]
  },
  {
   "cell_type": "code",
   "execution_count": 17,
   "id": "cleared-anniversary",
   "metadata": {},
   "outputs": [
    {
     "name": "stdout",
     "output_type": "stream",
     "text": [
      "[[  1   1   1 ... 198 198 199]\n",
      " [  0   1   1 ... 198 198 198]\n",
      " [  3   5   5 ... 198 198 199]\n",
      " ...\n",
      " [  0   0   2 ... 197 198 199]\n",
      " [  0   0   0 ... 194 197 198]\n",
      " [  1   2   2 ... 198 198 199]]\n",
      "--- 753 ms ---\n"
     ]
    }
   ],
   "source": [
    "# Сортировка выбором\n",
    "\n",
    "start_time = time.time()\n",
    "\n",
    "import copy\n",
    "import numpy as np\n",
    "import time\n",
    "\n",
    "def sort1(line):\n",
    "    for i in range(len(line)):\n",
    "        temp = line[i]\n",
    "        index = i\n",
    "        for j in range(i, len(line)):\n",
    "            if line[j] < temp:\n",
    "                temp = line[j]\n",
    "                index = j\n",
    "        line[index], line[i] = line[i], temp\n",
    "\n",
    "array1 = copy.deepcopy(matrix)                \n",
    "t1 = time.time()                \n",
    "for line in array1:\n",
    "    line = sort1(line)\n",
    "t2 = time.time()\n",
    "\n",
    "sort1_time = round((t2 - t1) * 1000)\n",
    "\n",
    "print(matrix)\n",
    "\n",
    "\n",
    "print(\"--- {0} ms ---\".format(round((time.time() - start_time)*1000)))"
   ]
  },
  {
   "cell_type": "code",
   "execution_count": 23,
   "id": "roman-silly",
   "metadata": {
    "scrolled": true
   },
   "outputs": [
    {
     "name": "stdout",
     "output_type": "stream",
     "text": [
      "[[  1   1   1 ... 198 198 199]\n",
      " [  0   1   1 ... 198 198 198]\n",
      " [  3   5   5 ... 198 198 199]\n",
      " ...\n",
      " [  0   0   2 ... 197 198 199]\n",
      " [  0   0   0 ... 194 197 198]\n",
      " [  1   2   2 ... 198 198 199]]\n",
      "--- 34 ms ---\n"
     ]
    }
   ],
   "source": [
    "# Сортировка вставкой.\n",
    "\n",
    "start_time = time.time()\n",
    "\n",
    "import copy\n",
    "import numpy as np\n",
    "import time\n",
    "\n",
    "def sort2(line):\n",
    "    for i in range(1, len(line)):\n",
    "        for j in range(i, 0, -1):\n",
    "            if line[j] < line[j - 1]:\n",
    "                line[j], line[j - 1] = line [j - 1], line[j]\n",
    "            else:\n",
    "                break\n",
    "                \n",
    "array2 = copy.deepcopy(matrix)                \n",
    "t1 = time.time()                \n",
    "for line in array2:\n",
    "    line = sort2(line)\n",
    "t2 = time.time()\n",
    "\n",
    "sort2_time = round((t2 - t1) * 1000)\n",
    "\n",
    "print(matrix)\n",
    "\n",
    "\n",
    "print(\"--- {0} ms ---\".format(round((time.time() - start_time)*1000)))"
   ]
  },
  {
   "cell_type": "code",
   "execution_count": 35,
   "id": "vital-implementation",
   "metadata": {},
   "outputs": [
    {
     "name": "stdout",
     "output_type": "stream",
     "text": [
      "[[  1   1   1 ... 198 198 199]\n",
      " [  0   1   1 ... 198 198 198]\n",
      " [  3   5   5 ... 198 198 199]\n",
      " ...\n",
      " [  0   0   2 ... 197 198 199]\n",
      " [  0   0   0 ... 194 197 198]\n",
      " [  1   2   2 ... 198 198 199]]\n",
      "--- 1102 ms ---\n"
     ]
    }
   ],
   "source": [
    "# Сортировка обменом. || Сортировка пузырьком.\n",
    "\n",
    "start_time = time.time()\n",
    "\n",
    "import copy\n",
    "import numpy as np\n",
    "import time\n",
    "\n",
    "def sort3(line):\n",
    "    counter = 1\n",
    "    while counter < len(line):\n",
    "        for i in range(len(line) - counter):\n",
    "            if line[i] > line[i + 1]:\n",
    "                line[i], line[i + 1] = line[i + 1], line[i]\n",
    "        counter += 1\n",
    "\n",
    "array3 = copy.deepcopy(matrix)                \n",
    "t1 = time.time()                \n",
    "for line in array3:\n",
    "    line = sort3(line)\n",
    "t2 = time.time()\n",
    "\n",
    "sort3_time = round((t2 - t1) * 1000)\n",
    "\n",
    "print(matrix)\n",
    "\n",
    "\n",
    "print(\"--- {0} ms ---\".format(round((time.time() - start_time)*1000)))"
   ]
  },
  {
   "cell_type": "code",
   "execution_count": 43,
   "id": "veterinary-glory",
   "metadata": {},
   "outputs": [
    {
     "name": "stdout",
     "output_type": "stream",
     "text": [
      "[[  1   1   1 ... 198 198 199]\n",
      " [  0   1   1 ... 198 198 198]\n",
      " [  3   5   5 ... 198 198 199]\n",
      " ...\n",
      " [  0   0   2 ... 197 198 199]\n",
      " [  0   0   0 ... 194 197 198]\n",
      " [  1   2   2 ... 198 198 199]]\n",
      "--- 90 ms ---\n"
     ]
    }
   ],
   "source": [
    "# Сортировка Шелла.\n",
    "\n",
    "start_time = time.time()\n",
    "\n",
    "import copy\n",
    "import numpy as np\n",
    "import time\n",
    "import math\n",
    "\n",
    "def sort4(line):\n",
    "    n = len(line)\n",
    "    k = int(math.log2(n))\n",
    "    interval = 2**k -1\n",
    "    while interval > 0:\n",
    "        for i in range(interval, n):\n",
    "            temp = line[i]\n",
    "            j = i\n",
    "            while j >= interval and line[j - interval] > temp:\n",
    "                line[j] = line[j - interval]\n",
    "                j -= interval\n",
    "            line[j] = temp\n",
    "        k -= 1\n",
    "        interval = 2**k -1\n",
    "    return line\n",
    "\n",
    "array4 = copy.deepcopy(matrix)                \n",
    "t1 = time.time()                \n",
    "for line in array4:\n",
    "    line = sort4(line)\n",
    "t2 = time.time()\n",
    "\n",
    "sort4_time = round((t2 - t1) * 1000)\n",
    "\n",
    "print(matrix)\n",
    "\n",
    "print(\"--- {0} ms ---\".format(round((time.time() - start_time)*1000)))"
   ]
  },
  {
   "cell_type": "code",
   "execution_count": 41,
   "id": "correct-chaos",
   "metadata": {},
   "outputs": [
    {
     "name": "stdout",
     "output_type": "stream",
     "text": [
      "[[  1   1   1 ... 198 198 199]\n",
      " [  0   1   1 ... 198 198 198]\n",
      " [  3   5   5 ... 198 198 199]\n",
      " ...\n",
      " [  0   0   2 ... 197 198 199]\n",
      " [  0   0   0 ... 194 197 198]\n",
      " [  1   2   2 ... 198 198 199]]\n",
      "--- 960 ms ---\n"
     ]
    }
   ],
   "source": [
    "# Быстрая сортировка.\n",
    "\n",
    "start_time = time.time()\n",
    "\n",
    "import copy\n",
    "import numpy as np\n",
    "import time\n",
    "\n",
    "def sort5(line):\n",
    "    if len(line) <= 1:\n",
    "        return line\n",
    "    temp = line[0]\n",
    "    first_half = list(filter(lambda x : x < temp, line))\n",
    "    middle = [i for i in line if i == temp]\n",
    "    second_half = list(filter(lambda x : x > temp, line))\n",
    "    return sort5(first_half) + middle + sort5(second_half)\n",
    "\n",
    "array5 = copy.deepcopy(matrix)                \n",
    "t1 = time.time()                \n",
    "for line in array5:\n",
    "    line = sort5(line)\n",
    "t2 = time.time()\n",
    "\n",
    "sort5_time = round((t2 - t1) * 1000)\n",
    "\n",
    "print(matrix)\n",
    "\n",
    "print(\"--- {0} ms ---\".format(round((time.time() - start_time)*1000)))"
   ]
  },
  {
   "cell_type": "code",
   "execution_count": 9,
   "id": "french-czech",
   "metadata": {},
   "outputs": [
    {
     "name": "stdout",
     "output_type": "stream",
     "text": [
      "--- 0 ms ---\n"
     ]
    }
   ],
   "source": [
    "# Турнирная сортировка.\n",
    "start_time = time.time()\n",
    "#TODO\n",
    "print(\"--- {0} ms ---\".format(round((time.time() - start_time)*1000)))"
   ]
  },
  {
   "cell_type": "markdown",
   "id": "rental-jerusalem",
   "metadata": {},
   "source": [
    "### Вывод\n"
   ]
  },
  {
   "cell_type": "code",
   "execution_count": null,
   "id": "19e7f6a9",
   "metadata": {},
   "outputs": [],
   "source": []
  }
 ],
 "metadata": {
  "kernelspec": {
   "display_name": "Python 3 (ipykernel)",
   "language": "python",
   "name": "python3"
  },
  "language_info": {
   "codemirror_mode": {
    "name": "ipython",
    "version": 3
   },
   "file_extension": ".py",
   "mimetype": "text/x-python",
   "name": "python",
   "nbconvert_exporter": "python",
   "pygments_lexer": "ipython3",
   "version": "3.9.7"
  }
 },
 "nbformat": 4,
 "nbformat_minor": 5
}
